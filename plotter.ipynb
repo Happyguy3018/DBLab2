{
 "cells": [
  {
   "cell_type": "code",
   "execution_count": 42,
   "metadata": {},
   "outputs": [],
   "source": [
    "import cx_Oracle\n",
    "import pandas as pd  \n",
    "import numpy as np"
   ]
  },
  {
   "cell_type": "code",
   "execution_count": 2,
   "metadata": {},
   "outputs": [],
   "source": [
    "con = cx_Oracle.connect('viktor/Password@localhost') \n",
    "      \n",
    "cursor = con.cursor() "
   ]
  },
  {
   "cell_type": "code",
   "execution_count": 4,
   "metadata": {},
   "outputs": [],
   "source": [
    "dataset = pd.read_csv(r'../incedents.csv')"
   ]
  },
  {
   "cell_type": "code",
   "execution_count": 5,
   "metadata": {},
   "outputs": [],
   "source": [
    "TMC = dataset[\"TMC\"]\n",
    "TMC = pd.unique(TMC)"
   ]
  },
  {
   "cell_type": "code",
   "execution_count": 6,
   "metadata": {},
   "outputs": [
    {
     "name": "stdout",
     "output_type": "stream",
     "text": [
      "{'succes': 0, 'fail': 22}\n"
     ]
    }
   ],
   "source": [
    "result = {'succes':0,'fail':0}\n",
    "for el in TMC:\n",
    "    try:\n",
    "        cursor.execute(\"INSERT INTO TMC(TMC) VALUES ({})\".format(el))\n",
    "        result['succes'] += 1\n",
    "    except:\n",
    "        result['fail'] += 1\n",
    "print(result)"
   ]
  },
  {
   "cell_type": "code",
   "execution_count": 7,
   "metadata": {},
   "outputs": [],
   "source": [
    "con.commit()"
   ]
  },
  {
   "cell_type": "code",
   "execution_count": 8,
   "metadata": {},
   "outputs": [
    {
     "data": {
      "text/plain": [
       "Index(['ID', 'Source', 'TMC', 'Severity', 'Start_Time', 'End_Time',\n",
       "       'Start_Lat', 'Start_Lng', 'End_Lat', 'End_Lng', 'Distance(mi)',\n",
       "       'Description', 'Number', 'Street', 'Side', 'City', 'County', 'State',\n",
       "       'Zipcode', 'Country', 'Timezone', 'Airport_Code', 'Weather_Timestamp',\n",
       "       'Temperature(F)', 'Wind_Chill(F)', 'Humidity(%)', 'Pressure(in)',\n",
       "       'Visibility(mi)', 'Wind_Direction', 'Wind_Speed(mph)',\n",
       "       'Precipitation(in)', 'Weather_Condition', 'Amenity', 'Bump', 'Crossing',\n",
       "       'Give_Way', 'Junction', 'No_Exit', 'Railway', 'Roundabout', 'Station',\n",
       "       'Stop', 'Traffic_Calming', 'Traffic_Signal', 'Turning_Loop',\n",
       "       'Sunrise_Sunset', 'Civil_Twilight', 'Nautical_Twilight',\n",
       "       'Astronomical_Twilight'],\n",
       "      dtype='object')"
      ]
     },
     "execution_count": 8,
     "metadata": {},
     "output_type": "execute_result"
    }
   ],
   "source": [
    "dataset.columns"
   ]
  },
  {
   "cell_type": "code",
   "execution_count": 30,
   "metadata": {},
   "outputs": [
    {
     "name": "stdout",
     "output_type": "stream",
     "text": [
      "{'succes': 0, 'fail': 4}\n"
     ]
    }
   ],
   "source": [
    "Severity = dataset[\"Severity\"]\n",
    "Severity = pd.unique(Severity)\n",
    "result = {'succes':0,'fail':0}\n",
    "for el in Severity:\n",
    "    try:\n",
    "        cursor.execute(\"INSERT INTO severityes(severity) VALUES ({})\".format(el))\n",
    "        result['succes'] += 1\n",
    "    except:\n",
    "        result['fail'] += 1\n",
    "print(result)"
   ]
  },
  {
   "cell_type": "code",
   "execution_count": 66,
   "metadata": {},
   "outputs": [
    {
     "name": "stdout",
     "output_type": "stream",
     "text": [
      "unique done result:(16893, 3)\n",
      "{'succes': 3972, 'fail': 12921}\n"
     ]
    }
   ],
   "source": [
    "Severity = dataset[[\"City\",'State','Country']]\n",
    "result = {'succes':0,'fail':0}\n",
    "Severity = Severity.drop_duplicates()\n",
    "Severity.shape\n",
    "print(\"unique done result:{}\".format(Severity.shape))\n",
    "Severity = Severity.to_numpy()\n",
    "for el in Severity:\n",
    "    try:\n",
    "        command = \"INSERT INTO CITYES(CITY,STATENAME,COUNTRY) VALUES ('{}','{}','{}')\".format(el[0],el[1],el[2])\n",
    "        cursor.execute(command)\n",
    "        result['succes'] += 1\n",
    "    except cx_Oracle.DatabaseError as e:\n",
    "        result['fail'] += 1\n",
    "print(result)"
   ]
  },
  {
   "cell_type": "code",
   "execution_count": 67,
   "metadata": {},
   "outputs": [],
   "source": [
    "con.commit()"
   ]
  },
  {
   "cell_type": "code",
   "execution_count": 113,
   "metadata": {},
   "outputs": [],
   "source": [
    "Streets = dataset[[\"Street\",\"Number\",\"City\",'State','Country']]\n",
    "Streets = Streets.drop_duplicates()\n",
    "Streets = Streets.to_numpy()\n",
    "\n",
    "\n",
    "\n",
    "for el in Streets:\n",
    "    try:\n",
    "        el[1] = int(el[1])\n",
    "    except ValueError:\n",
    "        el[1] = 'NULL'"
   ]
  },
  {
   "cell_type": "code",
   "execution_count": 111,
   "metadata": {},
   "outputs": [
    {
     "name": "stdout",
     "output_type": "stream",
     "text": [
      "{'succes': 289859, 'fail': 355008}\n"
     ]
    }
   ],
   "source": [
    "# INSERT INTO STREETS(STREET,CITY,STREETNUMBER,STATENAME,COUNTRY)\n",
    "# VALUES ('Brice Rd','Reynoldsburg',NULL,'OH','US');\n",
    "\n",
    "result = {'succes':0,'fail':0}\n",
    "for el in Streets:\n",
    "    try:\n",
    "        \n",
    "        command = \"\"\"INSERT INTO STREETS(STREET,STREETNUMBER,CITY,STATENAME,COUNTRY)\n",
    "                    VALUES ('{}',{},'{}','{}','{}')\"\"\".format(el[0],el[1],el[2],el[3],el[4])\n",
    "        cursor.execute(command)\n",
    "        result['succes'] += 1\n",
    "    except Exception as e:\n",
    "        result['fail'] += 1\n",
    "print(result)"
   ]
  },
  {
   "cell_type": "code",
   "execution_count": 114,
   "metadata": {},
   "outputs": [],
   "source": [
    "con.commit()"
   ]
  },
  {
   "cell_type": "code",
   "execution_count": 165,
   "metadata": {},
   "outputs": [],
   "source": [
    "#INSERT INTO INCEDENTS(STREET,TMC,SEVERITY,INFOSOURCE,CITY,COUNTRY,SIDE,STARTTIME,ENDTIME,DISTANCE)\n",
    "#VALUES ('Brice Rd',241.0,4,'MapQuest','Reynoldsburg','US','R',TIMESTAMP'2016-03-08 05:46:00',\n",
    "#TIMESTAMP'2016-04-08 11:00:00',0);\n",
    "Incedents = dataset[[\"Street\",'TMC','Severity',\"City\",'Country','Side','Start_Time', 'End_Time','Distance(mi)']]\n",
    "Incedents = Incedents.drop_duplicates()\n",
    "Incedents = Incedents.to_numpy()\n",
    "\n",
    "for el in Incedents:\n",
    "    \n",
    "    try:\n",
    "        bof = el[1]\n",
    "        int(bof)\n",
    "        el[1] = float(el[1])\n",
    "    except:\n",
    "        el[1] = 'NULL'\n",
    "\n",
    "\n",
    "# for el in Incedents:\n",
    "#     print(el)\n",
    "\n"
   ]
  },
  {
   "cell_type": "code",
   "execution_count": 166,
   "metadata": {},
   "outputs": [
    {
     "data": {
      "text/plain": [
       "(2954837, 9)"
      ]
     },
     "execution_count": 166,
     "metadata": {},
     "output_type": "execute_result"
    }
   ],
   "source": [
    "Incedents.shape"
   ]
  },
  {
   "cell_type": "code",
   "execution_count": 167,
   "metadata": {},
   "outputs": [
    {
     "ename": "KeyboardInterrupt",
     "evalue": "",
     "output_type": "error",
     "traceback": [
      "\u001b[0;31m---------------------------------------------------------------------------\u001b[0m",
      "\u001b[0;31mDatabaseError\u001b[0m                             Traceback (most recent call last)",
      "\u001b[0;32m<ipython-input-167-639008a1052e>\u001b[0m in \u001b[0;36m<module>\u001b[0;34m\u001b[0m\n\u001b[1;32m      7\u001b[0m                     TIMESTAMP'{}',{})\"\"\".format(el[0],el[1],el[2],el[3],el[4],el[5],el[6],el[7],el[8])\n\u001b[0;32m----> 8\u001b[0;31m         \u001b[0mcursor\u001b[0m\u001b[0;34m.\u001b[0m\u001b[0mexecute\u001b[0m\u001b[0;34m(\u001b[0m\u001b[0mcommand\u001b[0m\u001b[0;34m)\u001b[0m\u001b[0;34m\u001b[0m\u001b[0;34m\u001b[0m\u001b[0m\n\u001b[0m\u001b[1;32m      9\u001b[0m         \u001b[0mresult\u001b[0m\u001b[0;34m[\u001b[0m\u001b[0;34m'succes'\u001b[0m\u001b[0;34m]\u001b[0m \u001b[0;34m+=\u001b[0m \u001b[0;36m1\u001b[0m\u001b[0;34m\u001b[0m\u001b[0;34m\u001b[0m\u001b[0m\n",
      "\u001b[0;31mDatabaseError\u001b[0m: ORA-01653: unable to extend table VIKTOR.INCEDENTS by 1024 in tablespace SYSTEM",
      "\nDuring handling of the above exception, another exception occurred:\n",
      "\u001b[0;31mKeyboardInterrupt\u001b[0m                         Traceback (most recent call last)",
      "\u001b[0;32m<ipython-input-167-639008a1052e>\u001b[0m in \u001b[0;36m<module>\u001b[0;34m\u001b[0m\n\u001b[1;32m      6\u001b[0m                     VALUES ('{}',{},{},'MapQuest','{}','{}','{}',TIMESTAMP'{}',\n\u001b[1;32m      7\u001b[0m                     TIMESTAMP'{}',{})\"\"\".format(el[0],el[1],el[2],el[3],el[4],el[5],el[6],el[7],el[8])\n\u001b[0;32m----> 8\u001b[0;31m         \u001b[0mcursor\u001b[0m\u001b[0;34m.\u001b[0m\u001b[0mexecute\u001b[0m\u001b[0;34m(\u001b[0m\u001b[0mcommand\u001b[0m\u001b[0;34m)\u001b[0m\u001b[0;34m\u001b[0m\u001b[0;34m\u001b[0m\u001b[0m\n\u001b[0m\u001b[1;32m      9\u001b[0m         \u001b[0mresult\u001b[0m\u001b[0;34m[\u001b[0m\u001b[0;34m'succes'\u001b[0m\u001b[0;34m]\u001b[0m \u001b[0;34m+=\u001b[0m \u001b[0;36m1\u001b[0m\u001b[0;34m\u001b[0m\u001b[0;34m\u001b[0m\u001b[0m\n\u001b[1;32m     10\u001b[0m     \u001b[0;32mexcept\u001b[0m \u001b[0mException\u001b[0m \u001b[0;32mas\u001b[0m \u001b[0me\u001b[0m\u001b[0;34m:\u001b[0m\u001b[0;34m\u001b[0m\u001b[0;34m\u001b[0m\u001b[0m\n",
      "\u001b[0;31mKeyboardInterrupt\u001b[0m: "
     ]
    }
   ],
   "source": [
    "result = {'succes':0,'fail':0}\n",
    "for el in Incedents:\n",
    "    try:\n",
    "        \n",
    "        command = \"\"\"INSERT INTO INCEDENTS(STREET,TMC,SEVERITY,INFOSOURCE,CITY,COUNTRY,SIDE,STARTTIME,ENDTIME,DISTANCE)\n",
    "                    VALUES ('{}',{},{},'MapQuest','{}','{}','{}',TIMESTAMP'{}',\n",
    "                    TIMESTAMP'{}',{})\n",
    "                    \"\"\".format(el[0],el[1],el[2],el[3],el[4],el[5],el[6],el[7],el[8])\n",
    "        cursor.execute(command)\n",
    "        result['succes'] += 1\n",
    "    except Exception as e:\n",
    "        result['fail'] += 1\n",
    "print(result)"
   ]
  },
  {
   "cell_type": "code",
   "execution_count": 168,
   "metadata": {},
   "outputs": [],
   "source": [
    "con.commit()"
   ]
  },
  {
   "cell_type": "code",
   "execution_count": null,
   "metadata": {},
   "outputs": [],
   "source": []
  }
 ],
 "metadata": {
  "kernelspec": {
   "display_name": "Python 3",
   "language": "python",
   "name": "python3"
  },
  "language_info": {
   "codemirror_mode": {
    "name": "ipython",
    "version": 3
   },
   "file_extension": ".py",
   "mimetype": "text/x-python",
   "name": "python",
   "nbconvert_exporter": "python",
   "pygments_lexer": "ipython3",
   "version": "3.8.2"
  }
 },
 "nbformat": 4,
 "nbformat_minor": 4
}
